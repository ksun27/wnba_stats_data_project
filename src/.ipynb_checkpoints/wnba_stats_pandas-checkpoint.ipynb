{
 "cells": [
  {
   "cell_type": "markdown",
   "metadata": {},
   "source": [
    "## **WNBA STATS**"
   ]
  },
  {
   "cell_type": "markdown",
   "metadata": {},
   "source": [
    "Note: This data set was documented in the wnba_stats_python notebook."
   ]
  },
  {
   "cell_type": "markdown",
   "metadata": {},
   "source": [
    "For this data I would like to answer the same questions from the previous assignment.\n",
    "<br>\n",
    "### Question 1: \n",
    "\n",
    "What is the average Player Efficiency Rating among WNBA players from 1997-2019?\n",
    "\n",
    "* Who (population): WNBA Players\n",
    "* What (subject, discipline): Baskeball, WNBA Statistics \n",
    "* Where (location): WNBA League in North America\n",
    "* When (snapshot, longitudinal): 1997-2019 WNBA Seasons, N/A\n",
    "* How much data do you need to do the analysis/work: CSV with WNBA Player Statistics highlighting Player Efficiency Rating\n",
    "\n",
    "### Question 2: \n",
    "\n",
    "What is the average age of players among WNBA players from 1997-2019?\n",
    "\n",
    "* Who (population): WNBA Players\n",
    "* What (subject, discipline): Baskeball, WNBA Statistics \n",
    "* Where (location): WNBA League in North America\n",
    "* When (snapshot, longitudinal): 1997-2019 WNBA Seasons, N/A\n",
    "* How much data do you need to do the analysis/work: CSV with WNBA Player Statistics highlighting age and season\n",
    "\n",
    "### Question 3: \n",
    "\n",
    "What is the highest Player Efficiency Rating among WNBA players from 1997-2019?\n",
    "\n",
    "* Who (population): WNBA Players\n",
    "* What (subject, discipline): Baskeball, WNBA Statistics \n",
    "* Where (location): WNBA League in North America\n",
    "* When (snapshot, longitudinal): 1997-2019 WNBA Seasons, N/A\n",
    "* How much data do you need to do the analysis/work: CSV with WNBA Player Statistics highlighting Player Name and Player Efficiency Rating"
   ]
  },
  {
   "cell_type": "code",
   "execution_count": 1,
   "metadata": {},
   "outputs": [
    {
     "data": {
      "text/html": [
       "<div>\n",
       "<style scoped>\n",
       "    .dataframe tbody tr th:only-of-type {\n",
       "        vertical-align: middle;\n",
       "    }\n",
       "\n",
       "    .dataframe tbody tr th {\n",
       "        vertical-align: top;\n",
       "    }\n",
       "\n",
       "    .dataframe thead th {\n",
       "        text-align: right;\n",
       "    }\n",
       "</style>\n",
       "<table border=\"1\" class=\"dataframe\">\n",
       "  <thead>\n",
       "    <tr style=\"text-align: right;\">\n",
       "      <th></th>\n",
       "      <th>player_ID</th>\n",
       "      <th>Player</th>\n",
       "      <th>year_ID</th>\n",
       "      <th>Age</th>\n",
       "      <th>Tm</th>\n",
       "      <th>tm_gms</th>\n",
       "      <th>Tm_Net_Rtg</th>\n",
       "      <th>Pos</th>\n",
       "      <th>G</th>\n",
       "      <th>MP</th>\n",
       "      <th>...</th>\n",
       "      <th>STL_pct</th>\n",
       "      <th>BLK_pct</th>\n",
       "      <th>TOV_pct</th>\n",
       "      <th>USG_pct</th>\n",
       "      <th>OWS</th>\n",
       "      <th>DWS</th>\n",
       "      <th>WS</th>\n",
       "      <th>WS40</th>\n",
       "      <th>Composite_Rating</th>\n",
       "      <th>Wins_Generated</th>\n",
       "    </tr>\n",
       "  </thead>\n",
       "  <tbody>\n",
       "    <tr>\n",
       "      <th>0</th>\n",
       "      <td>montgre01w</td>\n",
       "      <td>Renee Montgomery</td>\n",
       "      <td>2019</td>\n",
       "      <td>32</td>\n",
       "      <td>ATL</td>\n",
       "      <td>34</td>\n",
       "      <td>-9.8</td>\n",
       "      <td>G</td>\n",
       "      <td>34</td>\n",
       "      <td>949</td>\n",
       "      <td>...</td>\n",
       "      <td>1.7</td>\n",
       "      <td>0.5</td>\n",
       "      <td>16.8</td>\n",
       "      <td>17.5</td>\n",
       "      <td>0.4</td>\n",
       "      <td>0.5</td>\n",
       "      <td>0.9</td>\n",
       "      <td>0.039</td>\n",
       "      <td>-2.4</td>\n",
       "      <td>1.22</td>\n",
       "    </tr>\n",
       "    <tr>\n",
       "      <th>1</th>\n",
       "      <td>williel01w</td>\n",
       "      <td>Elizabeth Williams</td>\n",
       "      <td>2019</td>\n",
       "      <td>26</td>\n",
       "      <td>ATL</td>\n",
       "      <td>34</td>\n",
       "      <td>-9.8</td>\n",
       "      <td>C-F</td>\n",
       "      <td>32</td>\n",
       "      <td>909</td>\n",
       "      <td>...</td>\n",
       "      <td>1.4</td>\n",
       "      <td>4.7</td>\n",
       "      <td>12.9</td>\n",
       "      <td>15.9</td>\n",
       "      <td>1.6</td>\n",
       "      <td>1.0</td>\n",
       "      <td>2.7</td>\n",
       "      <td>0.117</td>\n",
       "      <td>0.6</td>\n",
       "      <td>2.51</td>\n",
       "    </tr>\n",
       "    <tr>\n",
       "      <th>2</th>\n",
       "      <td>sykesbr01w</td>\n",
       "      <td>Brittney Sykes</td>\n",
       "      <td>2019</td>\n",
       "      <td>25</td>\n",
       "      <td>ATL</td>\n",
       "      <td>34</td>\n",
       "      <td>-9.8</td>\n",
       "      <td>G</td>\n",
       "      <td>34</td>\n",
       "      <td>880</td>\n",
       "      <td>...</td>\n",
       "      <td>1.2</td>\n",
       "      <td>1.5</td>\n",
       "      <td>14.8</td>\n",
       "      <td>23.1</td>\n",
       "      <td>-0.8</td>\n",
       "      <td>0.8</td>\n",
       "      <td>0.0</td>\n",
       "      <td>-0.001</td>\n",
       "      <td>-3.4</td>\n",
       "      <td>0.70</td>\n",
       "    </tr>\n",
       "    <tr>\n",
       "      <th>3</th>\n",
       "      <td>hayesti01w</td>\n",
       "      <td>Tiffany Hayes</td>\n",
       "      <td>2019</td>\n",
       "      <td>29</td>\n",
       "      <td>ATL</td>\n",
       "      <td>34</td>\n",
       "      <td>-9.8</td>\n",
       "      <td>G</td>\n",
       "      <td>29</td>\n",
       "      <td>817</td>\n",
       "      <td>...</td>\n",
       "      <td>1.8</td>\n",
       "      <td>0.8</td>\n",
       "      <td>14.0</td>\n",
       "      <td>27.1</td>\n",
       "      <td>0.5</td>\n",
       "      <td>0.6</td>\n",
       "      <td>1.0</td>\n",
       "      <td>0.050</td>\n",
       "      <td>-1.5</td>\n",
       "      <td>1.45</td>\n",
       "    </tr>\n",
       "    <tr>\n",
       "      <th>4</th>\n",
       "      <td>brelaje01w</td>\n",
       "      <td>Jessica Breland</td>\n",
       "      <td>2019</td>\n",
       "      <td>31</td>\n",
       "      <td>ATL</td>\n",
       "      <td>34</td>\n",
       "      <td>-9.8</td>\n",
       "      <td>F</td>\n",
       "      <td>33</td>\n",
       "      <td>767</td>\n",
       "      <td>...</td>\n",
       "      <td>2.8</td>\n",
       "      <td>3.6</td>\n",
       "      <td>11.6</td>\n",
       "      <td>18.9</td>\n",
       "      <td>-0.4</td>\n",
       "      <td>1.9</td>\n",
       "      <td>1.5</td>\n",
       "      <td>0.076</td>\n",
       "      <td>-0.8</td>\n",
       "      <td>1.62</td>\n",
       "    </tr>\n",
       "    <tr>\n",
       "      <th>...</th>\n",
       "      <td>...</td>\n",
       "      <td>...</td>\n",
       "      <td>...</td>\n",
       "      <td>...</td>\n",
       "      <td>...</td>\n",
       "      <td>...</td>\n",
       "      <td>...</td>\n",
       "      <td>...</td>\n",
       "      <td>...</td>\n",
       "      <td>...</td>\n",
       "      <td>...</td>\n",
       "      <td>...</td>\n",
       "      <td>...</td>\n",
       "      <td>...</td>\n",
       "      <td>...</td>\n",
       "      <td>...</td>\n",
       "      <td>...</td>\n",
       "      <td>...</td>\n",
       "      <td>...</td>\n",
       "      <td>...</td>\n",
       "      <td>...</td>\n",
       "    </tr>\n",
       "    <tr>\n",
       "      <th>3878</th>\n",
       "      <td>cartede01w</td>\n",
       "      <td>Deborah Carter</td>\n",
       "      <td>1997</td>\n",
       "      <td>25</td>\n",
       "      <td>UTA</td>\n",
       "      <td>28</td>\n",
       "      <td>-13.8</td>\n",
       "      <td>G-F</td>\n",
       "      <td>19</td>\n",
       "      <td>286</td>\n",
       "      <td>...</td>\n",
       "      <td>2.4</td>\n",
       "      <td>0.3</td>\n",
       "      <td>16.2</td>\n",
       "      <td>16.4</td>\n",
       "      <td>0.0</td>\n",
       "      <td>0.0</td>\n",
       "      <td>0.0</td>\n",
       "      <td>0.002</td>\n",
       "      <td>-4.0</td>\n",
       "      <td>0.15</td>\n",
       "    </tr>\n",
       "    <tr>\n",
       "      <th>3879</th>\n",
       "      <td>kossgr01w</td>\n",
       "      <td>Greta Koss</td>\n",
       "      <td>1997</td>\n",
       "      <td>23</td>\n",
       "      <td>UTA</td>\n",
       "      <td>28</td>\n",
       "      <td>-13.8</td>\n",
       "      <td>F</td>\n",
       "      <td>13</td>\n",
       "      <td>268</td>\n",
       "      <td>...</td>\n",
       "      <td>1.8</td>\n",
       "      <td>1.2</td>\n",
       "      <td>33.3</td>\n",
       "      <td>9.0</td>\n",
       "      <td>0.1</td>\n",
       "      <td>-0.1</td>\n",
       "      <td>0.0</td>\n",
       "      <td>0.005</td>\n",
       "      <td>-4.1</td>\n",
       "      <td>0.13</td>\n",
       "    </tr>\n",
       "    <tr>\n",
       "      <th>3880</th>\n",
       "      <td>hicksje01w</td>\n",
       "      <td>Jessie Hicks</td>\n",
       "      <td>1997</td>\n",
       "      <td>25</td>\n",
       "      <td>UTA</td>\n",
       "      <td>28</td>\n",
       "      <td>-13.8</td>\n",
       "      <td>C-F</td>\n",
       "      <td>26</td>\n",
       "      <td>263</td>\n",
       "      <td>...</td>\n",
       "      <td>2.6</td>\n",
       "      <td>3.3</td>\n",
       "      <td>12.1</td>\n",
       "      <td>16.8</td>\n",
       "      <td>0.4</td>\n",
       "      <td>0.0</td>\n",
       "      <td>0.4</td>\n",
       "      <td>0.060</td>\n",
       "      <td>-2.1</td>\n",
       "      <td>0.38</td>\n",
       "    </tr>\n",
       "    <tr>\n",
       "      <th>3881</th>\n",
       "      <td>scottra01w</td>\n",
       "      <td>Raegan Scott</td>\n",
       "      <td>1997</td>\n",
       "      <td>21</td>\n",
       "      <td>UTA</td>\n",
       "      <td>28</td>\n",
       "      <td>-13.8</td>\n",
       "      <td>F-C</td>\n",
       "      <td>8</td>\n",
       "      <td>43</td>\n",
       "      <td>...</td>\n",
       "      <td>1.2</td>\n",
       "      <td>5.5</td>\n",
       "      <td>0.0</td>\n",
       "      <td>14.4</td>\n",
       "      <td>0.1</td>\n",
       "      <td>0.0</td>\n",
       "      <td>0.1</td>\n",
       "      <td>0.092</td>\n",
       "      <td>-0.6</td>\n",
       "      <td>0.09</td>\n",
       "    </tr>\n",
       "    <tr>\n",
       "      <th>3882</th>\n",
       "      <td>compame01w</td>\n",
       "      <td>Megan Compain</td>\n",
       "      <td>1997</td>\n",
       "      <td>21</td>\n",
       "      <td>UTA</td>\n",
       "      <td>28</td>\n",
       "      <td>-13.8</td>\n",
       "      <td>G</td>\n",
       "      <td>4</td>\n",
       "      <td>19</td>\n",
       "      <td>...</td>\n",
       "      <td>11.2</td>\n",
       "      <td>4.2</td>\n",
       "      <td>50.0</td>\n",
       "      <td>14.1</td>\n",
       "      <td>-0.2</td>\n",
       "      <td>0.1</td>\n",
       "      <td>-0.1</td>\n",
       "      <td>-0.228</td>\n",
       "      <td>-11.8</td>\n",
       "      <td>-0.06</td>\n",
       "    </tr>\n",
       "  </tbody>\n",
       "</table>\n",
       "<p>3883 rows × 28 columns</p>\n",
       "</div>"
      ],
      "text/plain": [
       "       player_ID              Player  year_ID  Age   Tm  tm_gms  Tm_Net_Rtg  \\\n",
       "0     montgre01w    Renee Montgomery     2019   32  ATL      34        -9.8   \n",
       "1     williel01w  Elizabeth Williams     2019   26  ATL      34        -9.8   \n",
       "2     sykesbr01w      Brittney Sykes     2019   25  ATL      34        -9.8   \n",
       "3     hayesti01w       Tiffany Hayes     2019   29  ATL      34        -9.8   \n",
       "4     brelaje01w     Jessica Breland     2019   31  ATL      34        -9.8   \n",
       "...          ...                 ...      ...  ...  ...     ...         ...   \n",
       "3878  cartede01w      Deborah Carter     1997   25  UTA      28       -13.8   \n",
       "3879   kossgr01w          Greta Koss     1997   23  UTA      28       -13.8   \n",
       "3880  hicksje01w        Jessie Hicks     1997   25  UTA      28       -13.8   \n",
       "3881  scottra01w        Raegan Scott     1997   21  UTA      28       -13.8   \n",
       "3882  compame01w       Megan Compain     1997   21  UTA      28       -13.8   \n",
       "\n",
       "      Pos   G   MP  ... STL_pct  BLK_pct  TOV_pct  USG_pct  OWS  DWS   WS  \\\n",
       "0       G  34  949  ...     1.7      0.5     16.8     17.5  0.4  0.5  0.9   \n",
       "1     C-F  32  909  ...     1.4      4.7     12.9     15.9  1.6  1.0  2.7   \n",
       "2       G  34  880  ...     1.2      1.5     14.8     23.1 -0.8  0.8  0.0   \n",
       "3       G  29  817  ...     1.8      0.8     14.0     27.1  0.5  0.6  1.0   \n",
       "4       F  33  767  ...     2.8      3.6     11.6     18.9 -0.4  1.9  1.5   \n",
       "...   ...  ..  ...  ...     ...      ...      ...      ...  ...  ...  ...   \n",
       "3878  G-F  19  286  ...     2.4      0.3     16.2     16.4  0.0  0.0  0.0   \n",
       "3879    F  13  268  ...     1.8      1.2     33.3      9.0  0.1 -0.1  0.0   \n",
       "3880  C-F  26  263  ...     2.6      3.3     12.1     16.8  0.4  0.0  0.4   \n",
       "3881  F-C   8   43  ...     1.2      5.5      0.0     14.4  0.1  0.0  0.1   \n",
       "3882    G   4   19  ...    11.2      4.2     50.0     14.1 -0.2  0.1 -0.1   \n",
       "\n",
       "       WS40  Composite_Rating  Wins_Generated  \n",
       "0     0.039              -2.4            1.22  \n",
       "1     0.117               0.6            2.51  \n",
       "2    -0.001              -3.4            0.70  \n",
       "3     0.050              -1.5            1.45  \n",
       "4     0.076              -0.8            1.62  \n",
       "...     ...               ...             ...  \n",
       "3878  0.002              -4.0            0.15  \n",
       "3879  0.005              -4.1            0.13  \n",
       "3880  0.060              -2.1            0.38  \n",
       "3881  0.092              -0.6            0.09  \n",
       "3882 -0.228             -11.8           -0.06  \n",
       "\n",
       "[3883 rows x 28 columns]"
      ]
     },
     "execution_count": 1,
     "metadata": {},
     "output_type": "execute_result"
    }
   ],
   "source": [
    "import pandas as pd\n",
    "pd.read_csv('../data/raw/wnba-player-stats.csv')"
   ]
  },
  {
   "cell_type": "markdown",
   "metadata": {},
   "source": [
    "I plan on using summary statistics, value counts, visualization, and type conversion."
   ]
  },
  {
   "cell_type": "code",
   "execution_count": 2,
   "metadata": {},
   "outputs": [
    {
     "data": {
      "text/plain": [
       "count    3878.000000\n",
       "mean       11.915730\n",
       "std         8.008592\n",
       "min      -111.900000\n",
       "25%         8.400000\n",
       "50%        12.300000\n",
       "75%        16.400000\n",
       "max        78.900000\n",
       "Name: PER, dtype: float64"
      ]
     },
     "execution_count": 2,
     "metadata": {},
     "output_type": "execute_result"
    }
   ],
   "source": [
    "df = pd.read_csv('../data/raw/wnba-player-stats.csv')\n",
    "df['PER'].describe()"
   ]
  },
  {
   "cell_type": "markdown",
   "metadata": {},
   "source": [
    "78.9 is the highest Player Efficiency Rating. This answers question 3 by using the pandas describe function. 11.915730 is the mean Player Efficiency Rating. This answers question 1 by using the pandas describe function."
   ]
  },
  {
   "cell_type": "code",
   "execution_count": 3,
   "metadata": {},
   "outputs": [
    {
     "data": {
      "text/plain": [
       "count    3883.000000\n",
       "mean       26.295133\n",
       "std         4.111837\n",
       "min        -1.000000\n",
       "25%        23.000000\n",
       "50%        26.000000\n",
       "75%        29.000000\n",
       "max        49.000000\n",
       "Name: Age, dtype: float64"
      ]
     },
     "execution_count": 3,
     "metadata": {},
     "output_type": "execute_result"
    }
   ],
   "source": [
    "df['Age'].describe()"
   ]
  },
  {
   "cell_type": "markdown",
   "metadata": {},
   "source": [
    "26.295133 is the average age of WNBA players. This answers question 2 by using the pandas describe function."
   ]
  },
  {
   "cell_type": "code",
   "execution_count": 4,
   "metadata": {},
   "outputs": [
    {
     "data": {
      "text/plain": [
       "dtype('int64')"
      ]
     },
     "execution_count": 4,
     "metadata": {},
     "output_type": "execute_result"
    }
   ],
   "source": [
    "df['year_ID'].dtype"
   ]
  },
  {
   "cell_type": "code",
   "execution_count": 5,
   "metadata": {},
   "outputs": [],
   "source": [
    "year = df['year_ID'].astype('category')"
   ]
  },
  {
   "cell_type": "code",
   "execution_count": 6,
   "metadata": {},
   "outputs": [
    {
     "data": {
      "text/plain": [
       "CategoricalDtype(categories=[1997, 1998, 1999, 2000, 2001, 2002, 2003, 2004, 2005, 2006,\n",
       "                  2007, 2008, 2009, 2010, 2011, 2012, 2013, 2014, 2015, 2016,\n",
       "                  2017, 2018, 2019],\n",
       ", ordered=False)"
      ]
     },
     "execution_count": 6,
     "metadata": {},
     "output_type": "execute_result"
    }
   ],
   "source": [
    "year.dtype"
   ]
  },
  {
   "cell_type": "markdown",
   "metadata": {},
   "source": [
    "This changes the year from an int value into a categorical value."
   ]
  },
  {
   "cell_type": "code",
   "execution_count": 7,
   "metadata": {},
   "outputs": [
    {
     "data": {
      "text/plain": [
       "<AxesSubplot:>"
      ]
     },
     "execution_count": 7,
     "metadata": {},
     "output_type": "execute_result"
    },
    {
     "data": {
      "image/png": "[encoded data removed]",
      "text/plain": [
       "<Figure size 432x288 with 1 Axes>"
      ]
     },
     "metadata": {
      "needs_background": "light"
     },
     "output_type": "display_data"
    }
   ],
   "source": [
    "playersPerYear = year.value_counts()\n",
    "playersPerYear.plot.bar()"
   ]
  },
  {
   "cell_type": "markdown",
   "metadata": {},
   "source": [
    "This visualization shows the players per year in the WNBA. I used value_counts() and plotted playersPerYear to achiveve this visualization."
   ]
  }
 ],
 "metadata": {
  "kernelspec": {
   "display_name": "Python 3",
   "language": "python",
   "name": "python3"
  },
  "language_info": {
   "codemirror_mode": {
    "name": "ipython",
    "version": 3
   },
   "file_extension": ".py",
   "mimetype": "text/x-python",
   "name": "python",
   "nbconvert_exporter": "python",
   "pygments_lexer": "ipython3",
   "version": "3.8.5"
  }
 },
 "nbformat": 4,
 "nbformat_minor": 4
}
